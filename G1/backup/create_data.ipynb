{
 "cells": [
  {
   "cell_type": "code",
   "execution_count": 1,
   "source": [
    "import os \n",
    "import shutil\n",
    "from tqdm import tqdm"
   ],
   "outputs": [],
   "metadata": {}
  },
  {
   "cell_type": "code",
   "execution_count": 2,
   "source": [
    "input_dir = '/home/vinbrain/Workspace/Datasets/pets_darknet_v2'\n",
    "\n",
    "for mode in ['test', 'val', 'train']:\n",
    "    for img_file in tqdm(os.listdir(os.path.join(input_dir, mode)),\n",
    "                        total=len(os.listdir(os.path.join(input_dir, mode)))): \n",
    "        idx = img_file.strip().rfind('.')\n",
    "        ext = img_file[idx+1:]\n",
    "        if ext in ['jpg', 'png', 'jpeg', 'tiff', 'JPEG']:\n",
    "            with open(f'{mode}_v2.txt', 'a') as f:\n",
    "                f.write(os.path.join(input_dir, mode, img_file) + '\\n')\n"
   ],
   "outputs": [
    {
     "output_type": "stream",
     "name": "stderr",
     "text": [
      "0it [00:00, ?it/s]\n",
      "100%|██████████| 6376/6376 [00:00<00:00, 114501.12it/s]\n",
      "100%|██████████| 59322/59322 [00:00<00:00, 123522.21it/s]\n"
     ]
    }
   ],
   "metadata": {}
  },
  {
   "cell_type": "code",
   "execution_count": 2,
   "source": [
    "input_dir = '/home/vinbrain/Workspace/Datasets/pets_darknet_v2'\n",
    "\n",
    "for mode in ['test']:\n",
    "    for img_file in tqdm(os.listdir(os.path.join(input_dir, mode)),\n",
    "                        total=len(os.listdir(os.path.join(input_dir, mode)))): \n",
    "        idx = img_file.strip().rfind('.')\n",
    "        ext = img_file[idx+1:]\n",
    "        if ext in ['jpg', 'png', 'jpeg', 'tiff', 'JPEG']:\n",
    "            with open(f'{mode}_v2.txt', 'a') as f:\n",
    "                f.write(os.path.join(input_dir, mode, img_file) + '\\n')"
   ],
   "outputs": [
    {
     "output_type": "stream",
     "name": "stderr",
     "text": [
      "100%|██████████| 3268/3268 [00:00<00:00, 60695.77it/s]\n"
     ]
    }
   ],
   "metadata": {}
  }
 ],
 "metadata": {
  "orig_nbformat": 4,
  "language_info": {
   "name": "python",
   "version": "3.6.9",
   "mimetype": "text/x-python",
   "codemirror_mode": {
    "name": "ipython",
    "version": 3
   },
   "pygments_lexer": "ipython3",
   "nbconvert_exporter": "python",
   "file_extension": ".py"
  },
  "kernelspec": {
   "name": "python3",
   "display_name": "Python 3.6.9 64-bit ('vb': virtualenv)"
  },
  "interpreter": {
   "hash": "8d8f8c8667e4ee5960f78b8b47381feacbd37513d68cd666298ce0fab12fd692"
  }
 },
 "nbformat": 4,
 "nbformat_minor": 2
}